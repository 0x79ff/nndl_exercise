{
 "cells": [
  {
   "cell_type": "markdown",
   "metadata": {},
   "source": [
    "## 准备数据"
   ]
  },
  {
   "cell_type": "code",
   "execution_count": 1,
   "metadata": {},
   "outputs": [],
   "source": [
    "import os\n",
    "import numpy as np\n",
    "import tensorflow as tf\n",
    "from tensorflow import keras\n",
    "from tensorflow.keras import layers, optimizers, datasets\n",
    "\n",
    "os.environ['TF_CPP_MIN_LOG_LEVEL'] = '2'  # or any {'0', '1', '2'}\n",
    "\n",
    "def mnist_dataset():\n",
    "    (x, y), (x_test, y_test) = datasets.mnist.load_data()\n",
    "    #normalize\n",
    "    x = x/255.0\n",
    "    x_test = x_test/255.0\n",
    "    \n",
    "    return (x, y), (x_test, y_test)"
   ]
  },
  {
   "cell_type": "code",
   "execution_count": 2,
   "metadata": {},
   "outputs": [
    {
     "name": "stdout",
     "output_type": "stream",
     "text": [
      "[(1, 'a'), (2, 'b'), (3, 'c'), (4, 'd')]\n"
     ]
    }
   ],
   "source": [
    "print(list(zip([1, 2, 3, 4], ['a', 'b', 'c', 'd'])))"
   ]
  },
  {
   "cell_type": "code",
   "execution_count": 3,
   "metadata": {},
   "outputs": [
    {
     "name": "stdout",
     "output_type": "stream",
     "text": [
      "(60000, 28, 28)\n"
     ]
    }
   ],
   "source": [
    "(x, y), (x_test, y_test) = datasets.mnist.load_data()\n",
    "print(x.shape)"
   ]
  },
  {
   "cell_type": "markdown",
   "metadata": {},
   "source": [
    "## 建立模型"
   ]
  },
  {
   "cell_type": "code",
   "execution_count": 10,
   "metadata": {},
   "outputs": [],
   "source": [
    "class myModel:\n",
    "    def __init__(self):\n",
    "        ####################\n",
    "        '''声明模型对应的参数'''\n",
    "        self.W1 = tf.Variable(shape=[28*28, 1000], dtype=tf.float32,initial_value=tf.random.uniform(shape=[28*28, 1000],minval=-0.1, maxval=0.1))\n",
    "        self.b1 = tf.Variable(shape=[1000], dtype=tf.float32, initial_value=tf.zeros(1000))\n",
    "        self.W2 = tf.Variable(shape=[1000, 10], dtype=tf.float32,initial_value=tf.random.uniform(shape=[1000, 10],minval=-0.1, maxval=0.1))\n",
    "        self.b2 = tf.Variable(shape=[10], dtype=tf.float32, initial_value=tf.zeros(10))\n",
    "        self.trainable_variables = [self.W1, self.W2, self.b1, self.b2]\n",
    "        ####################\n",
    "    def __call__(self, x):\n",
    "        ####################\n",
    "        '''实现模型函数体，返回未归一化的logits'''\n",
    "        newx = tf.reshape(x, shape=[-1, 28*28])\n",
    "        hidden = tf.tanh(tf.matmul(newx, self.W1) + self.b1)\n",
    "        logits = tf.matmul(hidden, self.W2) + self.b2\n",
    "        ####################\n",
    "        return logits\n",
    "        \n",
    "model = myModel()\n",
    "\n",
    "optimizer = optimizers.Adam()"
   ]
  },
  {
   "cell_type": "markdown",
   "metadata": {},
   "source": [
    "## 计算 loss"
   ]
  },
  {
   "cell_type": "code",
   "execution_count": 11,
   "metadata": {},
   "outputs": [],
   "source": [
    "@tf.function\n",
    "def compute_loss(logits, labels):\n",
    "    return tf.reduce_mean(\n",
    "        tf.nn.sparse_softmax_cross_entropy_with_logits(\n",
    "            logits=logits, labels=labels))\n",
    "\n",
    "@tf.function\n",
    "def compute_accuracy(logits, labels):\n",
    "    predictions = tf.argmax(logits, axis=1)\n",
    "    return tf.reduce_mean(tf.cast(tf.equal(predictions, labels), tf.float32))\n",
    "\n",
    "@tf.function\n",
    "def train_one_step(model, optimizer, x, y):\n",
    "    with tf.GradientTape() as tape:\n",
    "        logits = model(x)\n",
    "        loss = compute_loss(logits, y)\n",
    "\n",
    "    # compute gradient\n",
    "    trainable_vars = [model.W1, model.W2, model.b1, model.b2]\n",
    "    grads = tape.gradient(loss, trainable_vars)\n",
    "    for g, v in zip(grads, trainable_vars):\n",
    "        v.assign_sub(0.01*g)\n",
    "\n",
    "    accuracy = compute_accuracy(logits, y)\n",
    "\n",
    "    # loss and accuracy is scalar tensor\n",
    "    return loss, accuracy\n",
    "\n",
    "@tf.function\n",
    "def test(model, x, y):\n",
    "    logits = model(x)\n",
    "    loss = compute_loss(logits, y)\n",
    "    accuracy = compute_accuracy(logits, y)\n",
    "    return loss, accuracy"
   ]
  },
  {
   "cell_type": "markdown",
   "metadata": {},
   "source": [
    "## 实际训练"
   ]
  },
  {
   "cell_type": "code",
   "execution_count": 12,
   "metadata": {},
   "outputs": [
    {
     "name": "stdout",
     "output_type": "stream",
     "text": [
      "WARNING:tensorflow:Entity <function train_one_step at 0x000002707AAF5510> could not be transformed and will be executed as-is. Please report this to the AutoGraph team. When filing the bug, set the verbosity to 10 (on Linux, `export AUTOGRAPH_VERBOSITY=10`) and attach the full output. Cause: No module named 'tensorflow_core.estimator'\n",
      "WARNING: Entity <function train_one_step at 0x000002707AAF5510> could not be transformed and will be executed as-is. Please report this to the AutoGraph team. When filing the bug, set the verbosity to 10 (on Linux, `export AUTOGRAPH_VERBOSITY=10`) and attach the full output. Cause: No module named 'tensorflow_core.estimator'\n",
      "WARNING:tensorflow:Entity <function compute_loss at 0x0000027001100B70> could not be transformed and will be executed as-is. Please report this to the AutoGraph team. When filing the bug, set the verbosity to 10 (on Linux, `export AUTOGRAPH_VERBOSITY=10`) and attach the full output. Cause: No module named 'tensorflow_core.estimator'\n",
      "WARNING: Entity <function compute_loss at 0x0000027001100B70> could not be transformed and will be executed as-is. Please report this to the AutoGraph team. When filing the bug, set the verbosity to 10 (on Linux, `export AUTOGRAPH_VERBOSITY=10`) and attach the full output. Cause: No module named 'tensorflow_core.estimator'\n",
      "WARNING:tensorflow:Entity <function compute_accuracy at 0x00000270014F8AE8> could not be transformed and will be executed as-is. Please report this to the AutoGraph team. When filing the bug, set the verbosity to 10 (on Linux, `export AUTOGRAPH_VERBOSITY=10`) and attach the full output. Cause: No module named 'tensorflow_core.estimator'\n",
      "WARNING: Entity <function compute_accuracy at 0x00000270014F8AE8> could not be transformed and will be executed as-is. Please report this to the AutoGraph team. When filing the bug, set the verbosity to 10 (on Linux, `export AUTOGRAPH_VERBOSITY=10`) and attach the full output. Cause: No module named 'tensorflow_core.estimator'\n",
      "epoch 0 : loss 2.7262642 ; accuracy 0.08256666\n",
      "epoch 1 : loss 2.6436646 ; accuracy 0.09431667\n",
      "epoch 2 : loss 2.5718298 ; accuracy 0.107433334\n",
      "epoch 3 : loss 2.507441 ; accuracy 0.120916665\n",
      "epoch 4 : loss 2.4485722 ; accuracy 0.13513333\n",
      "epoch 5 : loss 2.3940015 ; accuracy 0.148\n",
      "epoch 6 : loss 2.342906 ; accuracy 0.16255\n",
      "epoch 7 : loss 2.294701 ; accuracy 0.17685\n",
      "epoch 8 : loss 2.2489583 ; accuracy 0.19195\n",
      "epoch 9 : loss 2.2053525 ; accuracy 0.20831667\n",
      "epoch 10 : loss 2.163632 ; accuracy 0.22606666\n",
      "epoch 11 : loss 2.1235995 ; accuracy 0.24446666\n",
      "epoch 12 : loss 2.0850966 ; accuracy 0.26325\n",
      "epoch 13 : loss 2.047995 ; accuracy 0.28253335\n",
      "epoch 14 : loss 2.0121918 ; accuracy 0.30291668\n",
      "epoch 15 : loss 1.9776013 ; accuracy 0.3231\n",
      "epoch 16 : loss 1.9441524 ; accuracy 0.34325\n",
      "epoch 17 : loss 1.9117851 ; accuracy 0.3615\n",
      "epoch 18 : loss 1.8804487 ; accuracy 0.38038334\n",
      "epoch 19 : loss 1.8500986 ; accuracy 0.39691666\n",
      "epoch 20 : loss 1.8206943 ; accuracy 0.41261667\n",
      "epoch 21 : loss 1.7922006 ; accuracy 0.42888334\n",
      "epoch 22 : loss 1.7645841 ; accuracy 0.44335\n",
      "epoch 23 : loss 1.7378138 ; accuracy 0.45806667\n",
      "epoch 24 : loss 1.7118613 ; accuracy 0.47136667\n",
      "epoch 25 : loss 1.6866976 ; accuracy 0.484\n",
      "epoch 26 : loss 1.6622969 ; accuracy 0.49578333\n",
      "epoch 27 : loss 1.6386328 ; accuracy 0.50715\n",
      "epoch 28 : loss 1.6156802 ; accuracy 0.5189667\n",
      "epoch 29 : loss 1.5934155 ; accuracy 0.5299\n",
      "epoch 30 : loss 1.5718145 ; accuracy 0.5402333\n",
      "epoch 31 : loss 1.5508546 ; accuracy 0.5498667\n",
      "epoch 32 : loss 1.5305135 ; accuracy 0.55895\n",
      "epoch 33 : loss 1.5107695 ; accuracy 0.56755\n",
      "epoch 34 : loss 1.4916023 ; accuracy 0.57585\n",
      "epoch 35 : loss 1.4729909 ; accuracy 0.58381665\n",
      "epoch 36 : loss 1.454916 ; accuracy 0.5919333\n",
      "epoch 37 : loss 1.4373589 ; accuracy 0.5994667\n",
      "epoch 38 : loss 1.4203006 ; accuracy 0.6067333\n",
      "epoch 39 : loss 1.4037242 ; accuracy 0.61326665\n",
      "epoch 40 : loss 1.3876122 ; accuracy 0.6206167\n",
      "epoch 41 : loss 1.3719481 ; accuracy 0.6275\n",
      "epoch 42 : loss 1.3567163 ; accuracy 0.63418335\n",
      "epoch 43 : loss 1.3419012 ; accuracy 0.6396\n",
      "epoch 44 : loss 1.3274884 ; accuracy 0.64571667\n",
      "epoch 45 : loss 1.3134636 ; accuracy 0.65095\n",
      "epoch 46 : loss 1.2998127 ; accuracy 0.65641665\n",
      "epoch 47 : loss 1.2865229 ; accuracy 0.66146666\n",
      "epoch 48 : loss 1.273582 ; accuracy 0.6662833\n",
      "epoch 49 : loss 1.2609776 ; accuracy 0.67125\n",
      "WARNING:tensorflow:Entity <function test at 0x00000270798B1158> could not be transformed and will be executed as-is. Please report this to the AutoGraph team. When filing the bug, set the verbosity to 10 (on Linux, `export AUTOGRAPH_VERBOSITY=10`) and attach the full output. Cause: No module named 'tensorflow_core.estimator'\n",
      "WARNING: Entity <function test at 0x00000270798B1158> could not be transformed and will be executed as-is. Please report this to the AutoGraph team. When filing the bug, set the verbosity to 10 (on Linux, `export AUTOGRAPH_VERBOSITY=10`) and attach the full output. Cause: No module named 'tensorflow_core.estimator'\n",
      "test loss 1.2203424 ; accuracy 0.6858\n"
     ]
    }
   ],
   "source": [
    "train_data, test_data = mnist_dataset()\n",
    "for epoch in range(50):\n",
    "    loss, accuracy = train_one_step(model, optimizer, \n",
    "                                    tf.constant(train_data[0], dtype=tf.float32), \n",
    "                                    tf.constant(train_data[1], dtype=tf.int64))\n",
    "    print('epoch', epoch, ': loss', loss.numpy(), '; accuracy', accuracy.numpy())\n",
    "loss, accuracy = test(model, \n",
    "                      tf.constant(test_data[0], dtype=tf.float32), \n",
    "                      tf.constant(test_data[1], dtype=tf.int64))\n",
    "\n",
    "print('test loss', loss.numpy(), '; accuracy', accuracy.numpy())"
   ]
  }
 ],
 "metadata": {
  "kernelspec": {
   "display_name": "Python 3",
   "language": "python",
   "name": "python3"
  },
  "language_info": {
   "codemirror_mode": {
    "name": "ipython",
    "version": 3
   },
   "file_extension": ".py",
   "mimetype": "text/x-python",
   "name": "python",
   "nbconvert_exporter": "python",
   "pygments_lexer": "ipython3",
   "version": "3.6.13"
  }
 },
 "nbformat": 4,
 "nbformat_minor": 2
}
