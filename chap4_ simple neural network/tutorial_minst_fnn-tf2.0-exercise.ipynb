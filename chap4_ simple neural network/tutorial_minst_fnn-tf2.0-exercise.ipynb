{
 "cells": [
  {
   "cell_type": "markdown",
   "metadata": {},
   "source": [
    "## 准备数据"
   ]
  },
  {
   "cell_type": "code",
   "execution_count": 1,
   "metadata": {},
   "outputs": [],
   "source": [
    "import os\n",
    "import numpy as np\n",
    "import tensorflow as tf\n",
    "from tensorflow import keras\n",
    "from tensorflow.keras import layers, optimizers, datasets\n",
    "\n",
    "os.environ['TF_CPP_MIN_LOG_LEVEL'] = '2'  # or any {'0', '1', '2'}\n",
    "\n",
    "def mnist_dataset():\n",
    "    (x, y), (x_test, y_test) = datasets.mnist.load_data()\n",
    "    #normalize\n",
    "    x = x/255.0\n",
    "    x_test = x_test/255.0\n",
    "    \n",
    "    return (x, y), (x_test, y_test)"
   ]
  },
  {
   "cell_type": "code",
   "execution_count": 2,
   "metadata": {},
   "outputs": [
    {
     "name": "stdout",
     "output_type": "stream",
     "text": [
      "[(1, 'a'), (2, 'b'), (3, 'c'), (4, 'd')]\n"
     ]
    }
   ],
   "source": [
    "print(list(zip([1, 2, 3, 4], ['a', 'b', 'c', 'd'])))"
   ]
  },
  {
   "cell_type": "code",
   "execution_count": 3,
   "metadata": {},
   "outputs": [
    {
     "name": "stdout",
     "output_type": "stream",
     "text": [
      "(60000, 28, 28)\n"
     ]
    }
   ],
   "source": [
    "(x, y), (x_test, y_test) = datasets.mnist.load_data()\n",
    "print(x.shape)"
   ]
  },
  {
   "cell_type": "markdown",
   "metadata": {},
   "source": [
    "## 建立模型"
   ]
  },
  {
   "cell_type": "code",
   "execution_count": 4,
   "metadata": {},
   "outputs": [],
   "source": [
    "class myModel:\n",
    "    def __init__(self):\n",
    "        ####################\n",
    "        '''声明模型对应的参数'''\n",
    "        self.W1 = tf.Variable(shape=[28*28, 1000], dtype=tf.float32,initial_value=tf.random.uniform(shape=[28*28, 1000],minval=-0.1, maxval=0.1))\n",
    "        self.b1 = tf.Variable(shape=[1000], dtype=tf.float32, initial_value=tf.zeros(1000))\n",
    "        self.W2 = tf.Variable(shape=[1000, 10], dtype=tf.float32,initial_value=tf.random.uniform(shape=[1000, 10],minval=-0.1, maxval=0.1))\n",
    "        self.b2 = tf.Variable(shape=[10], dtype=tf.float32, initial_value=tf.zeros(10))\n",
    "        self.trainable_variables = [self.W1, self.W2, self.b1, self.b2]\n",
    "        ####################\n",
    "    def __call__(self, x):\n",
    "        ####################\n",
    "        '''实现模型函数体，返回未归一化的logits'''\n",
    "        newx = tf.reshape(x, shape=[-1, 28*28])\n",
    "        hidden = tf.nn.relu(tf.matmul(newx, self.W1) + self.b1)\n",
    "        logits = tf.matmul(hidden, self.W2) + self.b2\n",
    "        ####################\n",
    "        return logits\n",
    "        \n",
    "model = myModel()\n",
    "\n",
    "optimizer = optimizers.Adam()"
   ]
  },
  {
   "cell_type": "markdown",
   "metadata": {},
   "source": [
    "## 计算 loss"
   ]
  },
  {
   "cell_type": "code",
   "execution_count": 5,
   "metadata": {},
   "outputs": [],
   "source": [
    "@tf.function\n",
    "def compute_loss(logits, labels):\n",
    "    return tf.reduce_mean(\n",
    "        tf.nn.sparse_softmax_cross_entropy_with_logits(\n",
    "            logits=logits, labels=labels))\n",
    "\n",
    "@tf.function\n",
    "def compute_accuracy(logits, labels):\n",
    "    predictions = tf.argmax(logits, axis=1)\n",
    "    return tf.reduce_mean(tf.cast(tf.equal(predictions, labels), tf.float32))\n",
    "\n",
    "@tf.function\n",
    "def train_one_step(model, optimizer, x, y):\n",
    "    with tf.GradientTape() as tape:\n",
    "        logits = model(x)\n",
    "        loss = compute_loss(logits, y)\n",
    "\n",
    "    # compute gradient\n",
    "    trainable_vars = [model.W1, model.W2, model.b1, model.b2]\n",
    "    grads = tape.gradient(loss, trainable_vars)\n",
    "    for g, v in zip(grads, trainable_vars):\n",
    "        v.assign_sub(0.01*g)\n",
    "\n",
    "    accuracy = compute_accuracy(logits, y)\n",
    "\n",
    "    # loss and accuracy is scalar tensor\n",
    "    return loss, accuracy\n",
    "\n",
    "@tf.function\n",
    "def test(model, x, y):\n",
    "    logits = model(x)\n",
    "    loss = compute_loss(logits, y)\n",
    "    accuracy = compute_accuracy(logits, y)\n",
    "    return loss, accuracy"
   ]
  },
  {
   "cell_type": "markdown",
   "metadata": {},
   "source": [
    "## 实际训练"
   ]
  },
  {
   "cell_type": "code",
   "execution_count": 6,
   "metadata": {},
   "outputs": [
    {
     "name": "stdout",
     "output_type": "stream",
     "text": [
      "epoch 0 : loss 2.3726969 ; accuracy 0.1543\n",
      "epoch 1 : loss 2.3245313 ; accuracy 0.15898333\n",
      "epoch 2 : loss 2.2813265 ; accuracy 0.16463333\n",
      "epoch 3 : loss 2.2421443 ; accuracy 0.17228334\n",
      "epoch 4 : loss 2.2062736 ; accuracy 0.1823\n",
      "epoch 5 : loss 2.1731582 ; accuracy 0.1949\n",
      "epoch 6 : loss 2.1423507 ; accuracy 0.21128333\n",
      "epoch 7 : loss 2.1134856 ; accuracy 0.22973333\n",
      "epoch 8 : loss 2.086263 ; accuracy 0.25135\n",
      "epoch 9 : loss 2.0604336 ; accuracy 0.27336666\n",
      "epoch 10 : loss 2.0357914 ; accuracy 0.29526666\n",
      "epoch 11 : loss 2.0121667 ; accuracy 0.3162\n",
      "epoch 12 : loss 1.989419 ; accuracy 0.33748335\n",
      "epoch 13 : loss 1.9674335 ; accuracy 0.35803333\n",
      "epoch 14 : loss 1.9461185 ; accuracy 0.37865\n",
      "epoch 15 : loss 1.9253979 ; accuracy 0.39816666\n",
      "epoch 16 : loss 1.905213 ; accuracy 0.41636667\n",
      "epoch 17 : loss 1.8855146 ; accuracy 0.43435\n",
      "epoch 18 : loss 1.8662637 ; accuracy 0.45031667\n",
      "epoch 19 : loss 1.8474301 ; accuracy 0.4664\n",
      "epoch 20 : loss 1.8289868 ; accuracy 0.47956666\n",
      "epoch 21 : loss 1.8109125 ; accuracy 0.49218333\n",
      "epoch 22 : loss 1.7931904 ; accuracy 0.50408334\n",
      "epoch 23 : loss 1.7758057 ; accuracy 0.5154167\n",
      "epoch 24 : loss 1.7587473 ; accuracy 0.52718335\n",
      "epoch 25 : loss 1.7420034 ; accuracy 0.53676665\n",
      "epoch 26 : loss 1.7255651 ; accuracy 0.5463833\n",
      "epoch 27 : loss 1.7094258 ; accuracy 0.5553\n",
      "epoch 28 : loss 1.6935768 ; accuracy 0.5637\n",
      "epoch 29 : loss 1.678012 ; accuracy 0.5713\n",
      "epoch 30 : loss 1.6627239 ; accuracy 0.5783833\n",
      "epoch 31 : loss 1.6477071 ; accuracy 0.5851333\n",
      "epoch 32 : loss 1.6329553 ; accuracy 0.59176666\n",
      "epoch 33 : loss 1.6184629 ; accuracy 0.5982\n",
      "epoch 34 : loss 1.6042252 ; accuracy 0.60433334\n",
      "epoch 35 : loss 1.5902362 ; accuracy 0.61065\n",
      "epoch 36 : loss 1.5764912 ; accuracy 0.61628336\n",
      "epoch 37 : loss 1.5629863 ; accuracy 0.6217667\n",
      "epoch 38 : loss 1.5497155 ; accuracy 0.6267667\n",
      "epoch 39 : loss 1.5366744 ; accuracy 0.6314833\n",
      "epoch 40 : loss 1.5238587 ; accuracy 0.63671666\n",
      "epoch 41 : loss 1.5112643 ; accuracy 0.6417\n",
      "epoch 42 : loss 1.4988862 ; accuracy 0.6465\n",
      "epoch 43 : loss 1.4867203 ; accuracy 0.65061665\n",
      "epoch 44 : loss 1.4747614 ; accuracy 0.65498334\n",
      "epoch 45 : loss 1.4630064 ; accuracy 0.65861666\n",
      "epoch 46 : loss 1.4514512 ; accuracy 0.66281664\n",
      "epoch 47 : loss 1.4400916 ; accuracy 0.6666833\n",
      "epoch 48 : loss 1.4289242 ; accuracy 0.67046666\n",
      "epoch 49 : loss 1.4179444 ; accuracy 0.6748833\n",
      "test loss 1.3851898 ; accuracy 0.6859\n"
     ]
    }
   ],
   "source": [
    "train_data, test_data = mnist_dataset()\n",
    "for epoch in range(50):\n",
    "    loss, accuracy = train_one_step(model, optimizer, \n",
    "                                    tf.constant(train_data[0], dtype=tf.float32), \n",
    "                                    tf.constant(train_data[1], dtype=tf.int64))\n",
    "    print('epoch', epoch, ': loss', loss.numpy(), '; accuracy', accuracy.numpy())\n",
    "loss, accuracy = test(model, \n",
    "                      tf.constant(test_data[0], dtype=tf.float32), \n",
    "                      tf.constant(test_data[1], dtype=tf.int64))\n",
    "\n",
    "print('test loss', loss.numpy(), '; accuracy', accuracy.numpy())"
   ]
  }
 ],
 "metadata": {
  "kernelspec": {
   "display_name": "Python 3",
   "language": "python",
   "name": "python3"
  },
  "language_info": {
   "codemirror_mode": {
    "name": "ipython",
    "version": 3
   },
   "file_extension": ".py",
   "mimetype": "text/x-python",
   "name": "python",
   "nbconvert_exporter": "python",
   "pygments_lexer": "ipython3",
   "version": "3.6.13"
  }
 },
 "nbformat": 4,
 "nbformat_minor": 2
}
